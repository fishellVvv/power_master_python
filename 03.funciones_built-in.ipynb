{
 "cells": [
  {
   "cell_type": "markdown",
   "id": "1b1df594",
   "metadata": {},
   "source": [
    "## Funciones built-in"
   ]
  },
  {
   "cell_type": "markdown",
   "id": "2467a104",
   "metadata": {},
   "source": [
    "### 01. print()"
   ]
  },
  {
   "cell_type": "code",
   "execution_count": null,
   "id": "44bf2106",
   "metadata": {},
   "outputs": [],
   "source": [
    "print(\"Hola a todo el mundo\")\n",
    "print(\"Tengo\", 20, \"años\")"
   ]
  },
  {
   "cell_type": "markdown",
   "id": "d47e5033",
   "metadata": {},
   "source": [
    "### 02. len()"
   ]
  },
  {
   "cell_type": "code",
   "execution_count": null,
   "id": "c3886b64",
   "metadata": {},
   "outputs": [],
   "source": [
    "saludo = \"Hola\"\n",
    "print(len(saludo))\n",
    "print(len([\"a\", \"b\", \"c\"]))"
   ]
  },
  {
   "cell_type": "markdown",
   "id": "5f82363a",
   "metadata": {},
   "source": [
    "### 03. type()"
   ]
  },
  {
   "cell_type": "code",
   "execution_count": null,
   "id": "196e94ce",
   "metadata": {},
   "outputs": [],
   "source": [
    "print(type(\"Hola\"))\n",
    "print(type(True))\n",
    "print(type(25))"
   ]
  },
  {
   "cell_type": "markdown",
   "id": "3478a9f1",
   "metadata": {},
   "source": [
    "### 04. help() y dir()"
   ]
  },
  {
   "cell_type": "code",
   "execution_count": null,
   "id": "6857ad74",
   "metadata": {},
   "outputs": [],
   "source": [
    "texto = \"Adios\"\n",
    "\n",
    "help(len)\n",
    "help(texto.upper)\n",
    "\n",
    "# Con un for-each se pueden ver los métodos en columna\n",
    "print(dir(texto))"
   ]
  },
  {
   "cell_type": "markdown",
   "id": "e9638341",
   "metadata": {},
   "source": [
    "### 05. Conversión de tipo de dato"
   ]
  },
  {
   "cell_type": "code",
   "execution_count": null,
   "id": "6c99c02c",
   "metadata": {},
   "outputs": [],
   "source": [
    "numero_en_string = \"123\"\n",
    "print(type(numero_en_string))\n",
    "numero_convertido = int(numero_en_string)\n",
    "print(type(numero_convertido))\n",
    "\n",
    "print(type(float(\"15.5\")))\n",
    "print(type(str(787)))\n",
    "print(type(bool(0)))\n",
    "print(bool(87))"
   ]
  },
  {
   "cell_type": "markdown",
   "id": "17034baf",
   "metadata": {},
   "source": [
    "### 06. Funciones con números"
   ]
  },
  {
   "cell_type": "code",
   "execution_count": null,
   "id": "325d8850",
   "metadata": {},
   "outputs": [],
   "source": [
    "print(max(9,8,5,4,40,3,23))\n",
    "print(min(9,8,5,4,40,3,23))\n",
    "print(round(3.141592, 3))\n",
    "print(abs(-7))"
   ]
  },
  {
   "cell_type": "markdown",
   "id": "afa8e35e",
   "metadata": {},
   "source": [
    "### 07. Funciones de listas"
   ]
  },
  {
   "cell_type": "code",
   "execution_count": null,
   "id": "bdb78a76",
   "metadata": {},
   "outputs": [],
   "source": [
    "numeros = [9,5,10,12,5,8,3]\n",
    "print(sum(numeros))\n",
    "print(sorted(numeros))\n",
    "print(list(reversed(numeros)))"
   ]
  },
  {
   "cell_type": "markdown",
   "id": "05f175f2",
   "metadata": {},
   "source": [
    "### 08. Entrada de datos"
   ]
  },
  {
   "cell_type": "code",
   "execution_count": null,
   "id": "9f5a85db",
   "metadata": {},
   "outputs": [],
   "source": [
    "nombre = input(\"¿Cómo te llamas?\")\n",
    "print(\"El usuario se llama:\", nombre)\n",
    "\n",
    "edad = int(input(\"¿Cual es tu edad actual?\"))\n",
    "print(\"El año que viene tendrás:\", edad + 1)"
   ]
  },
  {
   "cell_type": "markdown",
   "id": "a5d02fea",
   "metadata": {},
   "source": [
    "### 09. Funciones lógicas"
   ]
  },
  {
   "cell_type": "code",
   "execution_count": null,
   "id": "f0868ef0",
   "metadata": {},
   "outputs": [],
   "source": [
    "print(any([0,1,0]))\n",
    "print(all([1,1,1]))\n",
    "print(all([1,0,1]))"
   ]
  }
 ],
 "metadata": {
  "kernelspec": {
   "display_name": ".venv (3.13.3)",
   "language": "python",
   "name": "python3"
  },
  "language_info": {
   "codemirror_mode": {
    "name": "ipython",
    "version": 3
   },
   "file_extension": ".py",
   "mimetype": "text/x-python",
   "name": "python",
   "nbconvert_exporter": "python",
   "pygments_lexer": "ipython3",
   "version": "3.13.3"
  }
 },
 "nbformat": 4,
 "nbformat_minor": 5
}
