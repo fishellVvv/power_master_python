{
 "cells": [
  {
   "cell_type": "markdown",
   "id": "9192773c",
   "metadata": {},
   "source": [
    "## Operadores Aritméticos"
   ]
  },
  {
   "cell_type": "markdown",
   "id": "e46fe8ed",
   "metadata": {},
   "source": [
    "### Operador de Asignación"
   ]
  },
  {
   "cell_type": "code",
   "execution_count": 3,
   "metadata": {},
   "outputs": [],
   "source": [
    "a = 10\n",
    "b = 5"
   ]
  },
  {
   "cell_type": "markdown",
   "id": "f4c9ff39",
   "metadata": {},
   "source": [
    "### Suma"
   ]
  },
  {
   "cell_type": "code",
   "execution_count": 4,
   "id": "e24c222e",
   "metadata": {},
   "outputs": [
    {
     "name": "stdout",
     "output_type": "stream",
     "text": [
      "15\n"
     ]
    }
   ],
   "source": [
    "print(a + b)"
   ]
  },
  {
   "cell_type": "markdown",
   "id": "3159fcd4",
   "metadata": {},
   "source": [
    "### Resta"
   ]
  },
  {
   "cell_type": "code",
   "execution_count": 5,
   "id": "5c6b7657",
   "metadata": {},
   "outputs": [
    {
     "name": "stdout",
     "output_type": "stream",
     "text": [
      "5\n"
     ]
    }
   ],
   "source": [
    "print(a - b)"
   ]
  },
  {
   "cell_type": "markdown",
   "id": "f66c9367",
   "metadata": {},
   "source": [
    "### Multiplicación"
   ]
  },
  {
   "cell_type": "code",
   "execution_count": 6,
   "id": "a8629185",
   "metadata": {},
   "outputs": [
    {
     "name": "stdout",
     "output_type": "stream",
     "text": [
      "50\n"
     ]
    }
   ],
   "source": [
    "print(a * b)"
   ]
  },
  {
   "cell_type": "markdown",
   "id": "dec7da33",
   "metadata": {},
   "source": [
    "### División (float)"
   ]
  },
  {
   "cell_type": "code",
   "execution_count": 7,
   "id": "e84865a8",
   "metadata": {},
   "outputs": [
    {
     "name": "stdout",
     "output_type": "stream",
     "text": [
      "2.0\n"
     ]
    }
   ],
   "source": [
    "print(a / b)"
   ]
  },
  {
   "cell_type": "markdown",
   "id": "da492487",
   "metadata": {},
   "source": [
    "### División entera (int)"
   ]
  },
  {
   "cell_type": "code",
   "execution_count": 8,
   "id": "9ef92e86",
   "metadata": {},
   "outputs": [
    {
     "name": "stdout",
     "output_type": "stream",
     "text": [
      "2\n"
     ]
    }
   ],
   "source": [
    "print(a // b)"
   ]
  },
  {
   "cell_type": "markdown",
   "id": "a1632e6b",
   "metadata": {},
   "source": [
    "### Módulo - Resto"
   ]
  },
  {
   "cell_type": "code",
   "execution_count": 9,
   "id": "69b49e2d",
   "metadata": {},
   "outputs": [
    {
     "name": "stdout",
     "output_type": "stream",
     "text": [
      "0\n"
     ]
    }
   ],
   "source": [
    "print(a % b)"
   ]
  },
  {
   "cell_type": "markdown",
   "id": "b0621d80",
   "metadata": {},
   "source": [
    "### Potencia"
   ]
  },
  {
   "cell_type": "code",
   "execution_count": 10,
   "id": "9da7c372",
   "metadata": {},
   "outputs": [
    {
     "name": "stdout",
     "output_type": "stream",
     "text": [
      "100000\n"
     ]
    }
   ],
   "source": [
    "print(a ** b)"
   ]
  },
  {
   "cell_type": "markdown",
   "id": "0bffec80",
   "metadata": {},
   "source": [
    "## Concatenaciones"
   ]
  },
  {
   "cell_type": "code",
   "execution_count": 11,
   "id": "10d94be6",
   "metadata": {},
   "outputs": [
    {
     "name": "stdout",
     "output_type": "stream",
     "text": [
      "Hola Byron\n",
      "Byron tiene 5 años\n"
     ]
    }
   ],
   "source": [
    "saludo = \"Hola\"\n",
    "nombre = \"Byron\"\n",
    "mensaje = saludo + \" \" + nombre\n",
    "print(mensaje)\n",
    "\n",
    "edad = 5\n",
    "segundo_mensaje = nombre + \" tiene \" + str(edad) + \" años\"\n",
    "print(segundo_mensaje)"
   ]
  },
  {
   "cell_type": "markdown",
   "id": "4076bf9b",
   "metadata": {},
   "source": [
    "## Operadores de comparación o lógico"
   ]
  },
  {
   "cell_type": "code",
   "execution_count": 12,
   "id": "cdd2339f",
   "metadata": {},
   "outputs": [],
   "source": [
    "x = 10\n",
    "y = 20"
   ]
  },
  {
   "cell_type": "markdown",
   "id": "833e9fa6",
   "metadata": {},
   "source": [
    "### Igualdad"
   ]
  },
  {
   "cell_type": "code",
   "execution_count": 13,
   "id": "7ce96c64",
   "metadata": {},
   "outputs": [
    {
     "name": "stdout",
     "output_type": "stream",
     "text": [
      "False\n"
     ]
    }
   ],
   "source": [
    "print(x == y)"
   ]
  },
  {
   "cell_type": "markdown",
   "id": "9f8f5a14",
   "metadata": {},
   "source": [
    "### Distinto"
   ]
  },
  {
   "cell_type": "code",
   "execution_count": 14,
   "id": "66c7afb7",
   "metadata": {},
   "outputs": [
    {
     "name": "stdout",
     "output_type": "stream",
     "text": [
      "True\n"
     ]
    }
   ],
   "source": [
    "print(x != y)"
   ]
  },
  {
   "cell_type": "markdown",
   "id": "1bac33a0",
   "metadata": {},
   "source": [
    "### Mayor y Mayor o igual"
   ]
  },
  {
   "cell_type": "code",
   "execution_count": 15,
   "id": "239b2c9e",
   "metadata": {},
   "outputs": [
    {
     "name": "stdout",
     "output_type": "stream",
     "text": [
      "False\n",
      "False\n"
     ]
    }
   ],
   "source": [
    "print(x > y)\n",
    "print(x >= y)"
   ]
  },
  {
   "cell_type": "markdown",
   "id": "605fae1f",
   "metadata": {},
   "source": [
    "### Menor y Mnor o igual"
   ]
  },
  {
   "cell_type": "code",
   "execution_count": 16,
   "id": "3dfb2d6b",
   "metadata": {},
   "outputs": [
    {
     "name": "stdout",
     "output_type": "stream",
     "text": [
      "True\n",
      "True\n"
     ]
    }
   ],
   "source": [
    "print(x < y)\n",
    "print(x <= y)"
   ]
  },
  {
   "cell_type": "markdown",
   "id": "2e41cbdc",
   "metadata": {},
   "source": [
    "### Comparación"
   ]
  },
  {
   "cell_type": "code",
   "execution_count": 17,
   "id": "f13d0347",
   "metadata": {},
   "outputs": [
    {
     "name": "stdout",
     "output_type": "stream",
     "text": [
      "True\n",
      "True\n"
     ]
    }
   ],
   "source": [
    "nota = 7\n",
    "asistencia = 0.8\n",
    "\n",
    "aprobado = (nota >= 5) and (asistencia >= 0.7)\n",
    "print(aprobado)\n",
    "\n",
    "otro = (nota >= 5) or (asistencia >= 0.7)\n",
    "print(otro)"
   ]
  },
  {
   "cell_type": "markdown",
   "id": "b05ac417",
   "metadata": {},
   "source": [
    "## Operadores de operación y asignación - conbinados"
   ]
  },
  {
   "cell_type": "code",
   "execution_count": 18,
   "id": "1727a6dc",
   "metadata": {},
   "outputs": [
    {
     "name": "stdout",
     "output_type": "stream",
     "text": [
      "15\n",
      "30\n",
      "10\n",
      "8\n"
     ]
    }
   ],
   "source": [
    "numero = 10\n",
    "\n",
    "numero += 5\n",
    "print(numero)\n",
    "numero *= 2\n",
    "print(numero)\n",
    "numero //=3\n",
    "print(numero)\n",
    "numero -=2\n",
    "print(numero)"
   ]
  },
  {
   "cell_type": "markdown",
   "id": "eb529b31",
   "metadata": {},
   "source": [
    "## Conversores de datos"
   ]
  },
  {
   "cell_type": "code",
   "execution_count": 19,
   "id": "9c3331c6",
   "metadata": {},
   "outputs": [
    {
     "name": "stdout",
     "output_type": "stream",
     "text": [
      "5 <class 'int'>\n",
      "3.4 <class 'float'>\n",
      "10 <class 'str'>\n",
      "True <class 'bool'>\n"
     ]
    }
   ],
   "source": [
    "numero = int(\"5\")\n",
    "print(numero, type(numero))\n",
    "\n",
    "decimal = float(\"3.4\")\n",
    "print(decimal, type(decimal))\n",
    "\n",
    "texto = str(10)\n",
    "print(texto, type(texto))\n",
    "\n",
    "booleano = bool(0.1)\n",
    "print(booleano, type(booleano))"
   ]
  }
 ],
 "metadata": {
  "kernelspec": {
   "display_name": ".venv (3.13.3)",
   "language": "python",
   "name": "python3"
  },
  "language_info": {
   "codemirror_mode": {
    "name": "ipython",
    "version": 3
   },
   "file_extension": ".py",
   "mimetype": "text/x-python",
   "name": "python",
   "nbconvert_exporter": "python",
   "pygments_lexer": "ipython3",
   "version": "3.13.3"
  }
 },
 "nbformat": 4,
 "nbformat_minor": 5
}
