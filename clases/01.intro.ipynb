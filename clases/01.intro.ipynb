{
 "cells": [
  {
   "cell_type": "markdown",
   "id": "48fa6e9e",
   "metadata": {},
   "source": [
    "### Tecnologías utilizadas\n",
    "\n",
    "- Jupyter Notebook\n",
    "- Markdown\n",
    "- Python"
   ]
  },
  {
   "cell_type": "code",
   "execution_count": null,
   "id": "3cbe55bc",
   "metadata": {},
   "outputs": [],
   "source": [
    "# Este es un script con salida \"Hola mundo\"\n",
    "print(\"Hola mundo\")"
   ]
  },
  {
   "cell_type": "markdown",
   "id": "ee7630d8",
   "metadata": {},
   "source": [
    "### Esta es mi segunda ejecución con Python y Jupyter Notebook"
   ]
  },
  {
   "cell_type": "code",
   "execution_count": null,
   "id": "be43b567",
   "metadata": {},
   "outputs": [],
   "source": [
    "print(\"Adios\")"
   ]
  }
 ],
 "metadata": {
  "kernelspec": {
   "display_name": ".venv (3.13.3)",
   "language": "python",
   "name": "python3"
  },
  "language_info": {
   "name": "python",
   "version": "3.13.3"
  }
 },
 "nbformat": 4,
 "nbformat_minor": 5
}
