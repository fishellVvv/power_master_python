{
 "cells": [
  {
   "cell_type": "markdown",
   "id": "57ad65b1",
   "metadata": {},
   "source": [
    "## Indexación de strings"
   ]
  },
  {
   "cell_type": "markdown",
   "id": "baa3c4a0",
   "metadata": {},
   "source": [
    "### Índices positivos"
   ]
  },
  {
   "cell_type": "code",
   "execution_count": 4,
   "id": "2c5eb6a1",
   "metadata": {},
   "outputs": [
    {
     "name": "stdout",
     "output_type": "stream",
     "text": [
      "P\n",
      "r\n"
     ]
    }
   ],
   "source": [
    "palabra = \"Perro\"\n",
    "\n",
    "print(palabra[0])\n",
    "print(palabra[3])"
   ]
  },
  {
   "cell_type": "markdown",
   "id": "69ae5c1c",
   "metadata": {},
   "source": [
    "### Índices negativos"
   ]
  },
  {
   "cell_type": "code",
   "execution_count": 3,
   "id": "9fa2a636",
   "metadata": {},
   "outputs": [
    {
     "name": "stdout",
     "output_type": "stream",
     "text": [
      "o\n",
      "r\n"
     ]
    }
   ],
   "source": [
    "print(palabra[-1])\n",
    "print(palabra[-3])"
   ]
  },
  {
   "cell_type": "markdown",
   "id": "958e55d8",
   "metadata": {},
   "source": [
    "## Rangos de indexación"
   ]
  },
  {
   "cell_type": "markdown",
   "id": "8ecf6758",
   "metadata": {},
   "source": [
    "## Métodos de string"
   ]
  }
 ],
 "metadata": {
  "kernelspec": {
   "display_name": ".venv (3.13.3)",
   "language": "python",
   "name": "python3"
  },
  "language_info": {
   "codemirror_mode": {
    "name": "ipython",
    "version": 3
   },
   "file_extension": ".py",
   "mimetype": "text/x-python",
   "name": "python",
   "nbconvert_exporter": "python",
   "pygments_lexer": "ipython3",
   "version": "3.13.3"
  }
 },
 "nbformat": 4,
 "nbformat_minor": 5
}
