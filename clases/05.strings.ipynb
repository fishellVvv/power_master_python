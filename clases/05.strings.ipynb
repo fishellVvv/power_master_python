{
 "cells": [
  {
   "cell_type": "markdown",
   "id": "57ad65b1",
   "metadata": {},
   "source": [
    "## Indexación de strings"
   ]
  },
  {
   "cell_type": "code",
   "execution_count": 1,
   "id": "2c5eb6a1",
   "metadata": {},
   "outputs": [
    {
     "name": "stdout",
     "output_type": "stream",
     "text": [
      "P\n",
      "r\n",
      "o\n",
      "r\n"
     ]
    }
   ],
   "source": [
    "palabra = \"Perro\"\n",
    "\n",
    "# índices positivos\n",
    "print(palabra[0])\n",
    "print(palabra[3])\n",
    "\n",
    "# índices negativos\n",
    "print(palabra[-1])\n",
    "print(palabra[-3])"
   ]
  },
  {
   "cell_type": "markdown",
   "id": "958e55d8",
   "metadata": {},
   "source": [
    "## Rangos de indexación"
   ]
  },
  {
   "cell_type": "code",
   "execution_count": 2,
   "id": "ca6924df",
   "metadata": {},
   "outputs": [
    {
     "name": "stdout",
     "output_type": "stream",
     "text": [
      "oog\n",
      "Goog\n",
      "Meets\n",
      "Gol\n",
      "steeM elgooG\n"
     ]
    }
   ],
   "source": [
    "# string[star:stop:step]\n",
    "texto = \"Google Meets\"\n",
    "\n",
    "print(texto[1:4])\n",
    "print(texto[:4])\n",
    "print(texto[7:])\n",
    "print(texto[0:6:2])\n",
    "print(texto[::-1])"
   ]
  },
  {
   "cell_type": "markdown",
   "id": "8ecf6758",
   "metadata": {},
   "source": [
    "## Métodos de string"
   ]
  },
  {
   "cell_type": "code",
   "execution_count": 11,
   "id": "e13fc7ee",
   "metadata": {},
   "outputs": [
    {
     "name": "stdout",
     "output_type": "stream",
     "text": [
      "star wars\n",
      "STAR WARS\n",
      "El Caballero Oscuro\n",
      "El caballero oscuro\n",
      "Cantando bajo la lluvia\n",
      "Cantando bajo la luna\n",
      "-1\n",
      "10\n",
      "Perro | Gato | Loro | Ciervo\n"
     ]
    }
   ],
   "source": [
    "pelicula = \"Star Wars\"\n",
    "print(pelicula.lower())\n",
    "print(pelicula.upper())\n",
    "\n",
    "pelicula = \"el caballero oscuro\"\n",
    "print(pelicula.title())\n",
    "print(pelicula.capitalize())\n",
    "\n",
    "pelicula = \" Cantando bajo la lluvia    \"\n",
    "print(pelicula.strip())\n",
    "print(pelicula.replace(\"lluvia\", \"luna\").strip())\n",
    "print(pelicula.find(\"perro\"))\n",
    "print(pelicula.index(\"bajo\"))\n",
    "\n",
    "lista = [\"Perro\", \"Gato\", \"Loro\", \"Ciervo\"]\n",
    "print(\" | \".join(lista))"
   ]
  }
 ],
 "metadata": {
  "kernelspec": {
   "display_name": ".venv (3.13.3)",
   "language": "python",
   "name": "python3"
  },
  "language_info": {
   "codemirror_mode": {
    "name": "ipython",
    "version": 3
   },
   "file_extension": ".py",
   "mimetype": "text/x-python",
   "name": "python",
   "nbconvert_exporter": "python",
   "pygments_lexer": "ipython3",
   "version": "3.13.3"
  }
 },
 "nbformat": 4,
 "nbformat_minor": 5
}
