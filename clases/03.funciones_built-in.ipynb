{
 "cells": [
  {
   "cell_type": "markdown",
   "id": "1b1df594",
   "metadata": {},
   "source": [
    "## Funciones built-in"
   ]
  },
  {
   "cell_type": "markdown",
   "id": "2467a104",
   "metadata": {},
   "source": [
    "### 01. print()"
   ]
  },
  {
   "cell_type": "code",
   "execution_count": 10,
   "id": "44bf2106",
   "metadata": {},
   "outputs": [
    {
     "name": "stdout",
     "output_type": "stream",
     "text": [
      "Hola a todo el mundo\n",
      "Tengo 20 años\n"
     ]
    }
   ],
   "source": [
    "print(\"Hola a todo el mundo\")\n",
    "print(\"Tengo\", 20, \"años\")"
   ]
  },
  {
   "cell_type": "markdown",
   "id": "d47e5033",
   "metadata": {},
   "source": [
    "### 02. len()"
   ]
  },
  {
   "cell_type": "code",
   "execution_count": 11,
   "id": "c3886b64",
   "metadata": {},
   "outputs": [
    {
     "name": "stdout",
     "output_type": "stream",
     "text": [
      "4\n",
      "3\n"
     ]
    }
   ],
   "source": [
    "saludo = \"Hola\"\n",
    "print(len(saludo))\n",
    "print(len([\"a\", \"b\", \"c\"]))"
   ]
  },
  {
   "cell_type": "markdown",
   "id": "5f82363a",
   "metadata": {},
   "source": [
    "### 03. type()"
   ]
  },
  {
   "cell_type": "code",
   "execution_count": 12,
   "id": "196e94ce",
   "metadata": {},
   "outputs": [
    {
     "name": "stdout",
     "output_type": "stream",
     "text": [
      "<class 'str'>\n",
      "<class 'bool'>\n",
      "<class 'int'>\n"
     ]
    }
   ],
   "source": [
    "print(type(\"Hola\"))\n",
    "print(type(True))\n",
    "print(type(25))"
   ]
  },
  {
   "cell_type": "markdown",
   "id": "3478a9f1",
   "metadata": {},
   "source": [
    "### 04. help() y dir()"
   ]
  },
  {
   "cell_type": "code",
   "execution_count": 19,
   "id": "6857ad74",
   "metadata": {},
   "outputs": [
    {
     "name": "stdout",
     "output_type": "stream",
     "text": [
      "Help on built-in function len in module builtins:\n",
      "\n",
      "len(obj, /)\n",
      "    Return the number of items in a container.\n",
      "\n",
      "Help on built-in function upper:\n",
      "\n",
      "upper() method of builtins.str instance\n",
      "    Return a copy of the string converted to uppercase.\n",
      "\n",
      "['__add__', '__class__', '__contains__', '__delattr__', '__dir__', '__doc__', '__eq__', '__format__', '__ge__', '__getattribute__', '__getitem__', '__getnewargs__', '__getstate__', '__gt__', '__hash__', '__init__', '__init_subclass__', '__iter__', '__le__', '__len__', '__lt__', '__mod__', '__mul__', '__ne__', '__new__', '__reduce__', '__reduce_ex__', '__repr__', '__rmod__', '__rmul__', '__setattr__', '__sizeof__', '__str__', '__subclasshook__', 'capitalize', 'casefold', 'center', 'count', 'encode', 'endswith', 'expandtabs', 'find', 'format', 'format_map', 'index', 'isalnum', 'isalpha', 'isascii', 'isdecimal', 'isdigit', 'isidentifier', 'islower', 'isnumeric', 'isprintable', 'isspace', 'istitle', 'isupper', 'join', 'ljust', 'lower', 'lstrip', 'maketrans', 'partition', 'removeprefix', 'removesuffix', 'replace', 'rfind', 'rindex', 'rjust', 'rpartition', 'rsplit', 'rstrip', 'split', 'splitlines', 'startswith', 'strip', 'swapcase', 'title', 'translate', 'upper', 'zfill']\n",
      "__add__\n",
      "__class__\n",
      "__contains__\n",
      "__delattr__\n",
      "__dir__\n",
      "__doc__\n",
      "__eq__\n",
      "__format__\n",
      "__ge__\n",
      "__getattribute__\n",
      "__getitem__\n",
      "__getnewargs__\n",
      "__getstate__\n",
      "__gt__\n",
      "__hash__\n",
      "__init__\n",
      "__init_subclass__\n",
      "__iter__\n",
      "__le__\n",
      "__len__\n",
      "__lt__\n",
      "__mod__\n",
      "__mul__\n",
      "__ne__\n",
      "__new__\n",
      "__reduce__\n",
      "__reduce_ex__\n",
      "__repr__\n",
      "__rmod__\n",
      "__rmul__\n",
      "__setattr__\n",
      "__sizeof__\n",
      "__str__\n",
      "__subclasshook__\n",
      "capitalize\n",
      "casefold\n",
      "center\n",
      "count\n",
      "encode\n",
      "endswith\n",
      "expandtabs\n",
      "find\n",
      "format\n",
      "format_map\n",
      "index\n",
      "isalnum\n",
      "isalpha\n",
      "isascii\n",
      "isdecimal\n",
      "isdigit\n",
      "isidentifier\n",
      "islower\n",
      "isnumeric\n",
      "isprintable\n",
      "isspace\n",
      "istitle\n",
      "isupper\n",
      "join\n",
      "ljust\n",
      "lower\n",
      "lstrip\n",
      "maketrans\n",
      "partition\n",
      "removeprefix\n",
      "removesuffix\n",
      "replace\n",
      "rfind\n",
      "rindex\n",
      "rjust\n",
      "rpartition\n",
      "rsplit\n",
      "rstrip\n",
      "split\n",
      "splitlines\n",
      "startswith\n",
      "strip\n",
      "swapcase\n",
      "title\n",
      "translate\n",
      "upper\n",
      "zfill\n"
     ]
    }
   ],
   "source": [
    "texto = \"Adios\"\n",
    "\n",
    "help(len)\n",
    "help(texto.upper)\n",
    "\n",
    "print(dir(texto))\n",
    "\n",
    "# Con un for-each se pueden ver los métodos en columna\n",
    "for p in dir(texto):\n",
    "    print(p)"
   ]
  },
  {
   "cell_type": "markdown",
   "id": "e9638341",
   "metadata": {},
   "source": [
    "### 05. Conversión de tipo de dato"
   ]
  },
  {
   "cell_type": "code",
   "execution_count": 14,
   "id": "6c99c02c",
   "metadata": {},
   "outputs": [
    {
     "name": "stdout",
     "output_type": "stream",
     "text": [
      "<class 'str'>\n",
      "<class 'int'>\n",
      "<class 'float'>\n",
      "<class 'str'>\n",
      "<class 'bool'>\n",
      "True\n"
     ]
    }
   ],
   "source": [
    "numero_en_string = \"123\"\n",
    "print(type(numero_en_string))\n",
    "numero_convertido = int(numero_en_string)\n",
    "print(type(numero_convertido))\n",
    "\n",
    "print(type(float(\"15.5\")))\n",
    "print(type(str(787)))\n",
    "print(type(bool(0)))\n",
    "print(bool(87))"
   ]
  },
  {
   "cell_type": "markdown",
   "id": "17034baf",
   "metadata": {},
   "source": [
    "### 06. Funciones con números"
   ]
  },
  {
   "cell_type": "code",
   "execution_count": 15,
   "id": "325d8850",
   "metadata": {},
   "outputs": [
    {
     "name": "stdout",
     "output_type": "stream",
     "text": [
      "40\n",
      "3\n",
      "3.142\n",
      "7\n"
     ]
    }
   ],
   "source": [
    "print(max(9,8,5,4,40,3,23))\n",
    "print(min(9,8,5,4,40,3,23))\n",
    "print(round(3.141592, 3))\n",
    "print(abs(-7))"
   ]
  },
  {
   "cell_type": "markdown",
   "id": "afa8e35e",
   "metadata": {},
   "source": [
    "### 07. Funciones de listas"
   ]
  },
  {
   "cell_type": "code",
   "execution_count": 16,
   "id": "bdb78a76",
   "metadata": {},
   "outputs": [
    {
     "name": "stdout",
     "output_type": "stream",
     "text": [
      "52\n",
      "[3, 5, 5, 8, 9, 10, 12]\n",
      "[3, 8, 5, 12, 10, 5, 9]\n"
     ]
    }
   ],
   "source": [
    "numeros = [9,5,10,12,5,8,3]\n",
    "print(sum(numeros))\n",
    "print(sorted(numeros))\n",
    "print(list(reversed(numeros)))"
   ]
  },
  {
   "cell_type": "markdown",
   "id": "05f175f2",
   "metadata": {},
   "source": [
    "### 08. Entrada de datos"
   ]
  },
  {
   "cell_type": "code",
   "execution_count": 17,
   "id": "9f5a85db",
   "metadata": {},
   "outputs": [
    {
     "name": "stdout",
     "output_type": "stream",
     "text": [
      "El usuario se llama: Victor\n",
      "El año que viene tendrás: 43\n"
     ]
    }
   ],
   "source": [
    "nombre = input(\"¿Cómo te llamas?\")\n",
    "print(\"El usuario se llama:\", nombre)\n",
    "\n",
    "edad = int(input(\"¿Cual es tu edad actual?\"))\n",
    "print(\"El año que viene tendrás:\", edad + 1)"
   ]
  },
  {
   "cell_type": "markdown",
   "id": "a5d02fea",
   "metadata": {},
   "source": [
    "### 09. Funciones lógicas"
   ]
  },
  {
   "cell_type": "code",
   "execution_count": 18,
   "id": "f0868ef0",
   "metadata": {},
   "outputs": [
    {
     "name": "stdout",
     "output_type": "stream",
     "text": [
      "True\n",
      "True\n",
      "False\n"
     ]
    }
   ],
   "source": [
    "print(any([0,1,0]))\n",
    "print(all([1,1,1]))\n",
    "print(all([1,0,1]))"
   ]
  }
 ],
 "metadata": {
  "kernelspec": {
   "display_name": ".venv (3.13.3)",
   "language": "python",
   "name": "python3"
  },
  "language_info": {
   "codemirror_mode": {
    "name": "ipython",
    "version": 3
   },
   "file_extension": ".py",
   "mimetype": "text/x-python",
   "name": "python",
   "nbconvert_exporter": "python",
   "pygments_lexer": "ipython3",
   "version": "3.13.3"
  }
 },
 "nbformat": 4,
 "nbformat_minor": 5
}
