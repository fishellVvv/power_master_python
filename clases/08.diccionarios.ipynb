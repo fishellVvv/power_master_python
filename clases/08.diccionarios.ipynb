{
 "cells": [
  {
   "cell_type": "markdown",
   "id": "451c8b4e",
   "metadata": {},
   "source": [
    "## Diccionarios"
   ]
  },
  {
   "cell_type": "code",
   "execution_count": null,
   "id": "1f4e6eb9",
   "metadata": {},
   "outputs": [
    {
     "name": "stdout",
     "output_type": "stream",
     "text": [
      "{'name': 'Iron Man', 'real_name': 'Tony Stark', 'age': 50}\n"
     ]
    }
   ],
   "source": [
    "# Creación\n",
    "hulk = {\n",
    "    \"name\": \"Hulk\",\n",
    "    \"real_name\": \"Bruce Banner\",\n",
    "    \"age\": 45\n",
    "}\n",
    "\n",
    "ironman = dict(name = \"Iron Man\", real_name = \"Tony Stark\", age = 50)\n",
    "print(ironman)"
   ]
  },
  {
   "cell_type": "code",
   "execution_count": 11,
   "id": "54c050a3",
   "metadata": {},
   "outputs": [
    {
     "name": "stdout",
     "output_type": "stream",
     "text": [
      "Tony Stark\n",
      "secret location\n",
      "{'name': 'Iron Man', 'real_name': 'Tony Stark', 'age': 60, 'city': 'New York'}\n"
     ]
    }
   ],
   "source": [
    "# Indexación\n",
    "print(ironman[\"real_name\"])\n",
    "print(ironman.get(\"location\", \"secret location\"))\n",
    "\n",
    "ironman[\"age\"] = 60\n",
    "ironman[\"city\"] = \"New York\"\n",
    "print(ironman)"
   ]
  },
  {
   "cell_type": "code",
   "execution_count": 12,
   "id": "17d9ada4",
   "metadata": {},
   "outputs": [
    {
     "name": "stdout",
     "output_type": "stream",
     "text": [
      "{'name': 'Spider-man', 'real_name': 'Peter Parker', 'age': 25}\n"
     ]
    }
   ],
   "source": [
    "# Construcción de diccionario\n",
    "spiderman = {}\n",
    "spiderman[\"name\"] = \"Spider-man\"\n",
    "spiderman[\"real_name\"] = \"Peter Parker\"\n",
    "spiderman[\"age\"] = 25\n",
    "print(spiderman)"
   ]
  },
  {
   "cell_type": "code",
   "execution_count": 27,
   "id": "1d906511",
   "metadata": {},
   "outputs": [
    {
     "name": "stdout",
     "output_type": "stream",
     "text": [
      "name\n",
      "Hulk\n",
      "('name', 'Hulk')\n",
      "{'name': 'Hulk', 'real_name': 'Bruce Banner', 'age': 45, 'city': 'New York', 'color': 'green', 'power': 99}\n",
      "{'name': 'Hulk', 'real_name': 'Bruce Banner', 'age': 45, 'city': 'New York', 'color': 'green', 'power': 99, 'alive': True}\n",
      "New York\n",
      "{'name': 'Hulk', 'real_name': 'Bruce Banner', 'age': 45, 'color': 'green', 'power': 99, 'alive': True}\n",
      "('alive', True)\n",
      "{'name': 'Hulk', 'real_name': 'Bruce Banner', 'age': 45, 'color': 'green', 'power': 99}\n",
      "{'name': 'Hulk', 'real_name': 'Bruce Banner', 'age': 45, 'color': 'green', 'power': 99}\n",
      "{'name': 'Hulk', 'real_name': 'Bruce Banner', 'age': 45, 'color': 'red', 'power': 99}\n",
      "{}\n"
     ]
    }
   ],
   "source": [
    "# Métodos\n",
    "hulk = {\n",
    "    \"name\": \"Hulk\",\n",
    "    \"real_name\": \"Bruce Banner\",\n",
    "    \"age\": 45\n",
    "}\n",
    "\n",
    "# .keys\n",
    "hero_keys = list(hulk.keys())\n",
    "print(hero_keys[0])\n",
    "\n",
    "# .values\n",
    "hero_values = list(hulk.values())\n",
    "print(hero_values[0])\n",
    "\n",
    "# .items\n",
    "hero_items = list(hulk.items())\n",
    "print(hero_items[0])\n",
    "\n",
    "# .update\n",
    "hulk_plus = {\n",
    "    \"city\": \"New York\",\n",
    "    \"color\": \"green\",\n",
    "    \"power\": 99\n",
    "}\n",
    "\n",
    "hulk.update(hulk_plus)\n",
    "print(hulk)\n",
    "\n",
    "# .setdefault\n",
    "hulk.setdefault(\"alive\", True)\n",
    "print(hulk)\n",
    "\n",
    "# .pop\n",
    "print(hulk.pop(\"city\"))\n",
    "print(hulk)\n",
    "\n",
    "# .popitem\n",
    "print(hulk.popitem())\n",
    "print(hulk)\n",
    "\n",
    "# .copy\n",
    "hulk_copy = hulk.copy()\n",
    "hulk_copy[\"color\"] = \"red\"\n",
    "print(hulk)\n",
    "print(hulk_copy)\n",
    "\n",
    "# .clear\n",
    "hulk_copy.clear()\n",
    "print(hulk_copy)"
   ]
  },
  {
   "cell_type": "code",
   "execution_count": 29,
   "id": "4221bb61",
   "metadata": {},
   "outputs": [
    {
     "name": "stdout",
     "output_type": "stream",
     "text": [
      "Krypton\n"
     ]
    }
   ],
   "source": [
    "# Diccionarios anidados\n",
    "justice_ligue = {\n",
    "    \"Superman\": {\"power\": \"SuperStrong\", \"origin\": \"Krypton\"},\n",
    "    \"Wonder Woman\": {\"power\": \"Divine strong\", \"origin\": \"Temiscira\"},\n",
    "    \"Flash\": {\"power\": \"Speed\", \"origin\": \"Central City\"}\n",
    "}\n",
    "\n",
    "print(justice_ligue[\"Superman\"][\"origin\"])"
   ]
  }
 ],
 "metadata": {
  "kernelspec": {
   "display_name": "Python 3",
   "language": "python",
   "name": "python3"
  },
  "language_info": {
   "codemirror_mode": {
    "name": "ipython",
    "version": 3
   },
   "file_extension": ".py",
   "mimetype": "text/x-python",
   "name": "python",
   "nbconvert_exporter": "python",
   "pygments_lexer": "ipython3",
   "version": "3.13.3"
  }
 },
 "nbformat": 4,
 "nbformat_minor": 5
}
