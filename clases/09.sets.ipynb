{
 "cells": [
  {
   "cell_type": "markdown",
   "id": "44a72539",
   "metadata": {},
   "source": [
    "## Sets"
   ]
  },
  {
   "cell_type": "code",
   "execution_count": 12,
   "id": "420ec189",
   "metadata": {},
   "outputs": [
    {
     "name": "stdout",
     "output_type": "stream",
     "text": [
      "{'Forrest Gump', 'El Padrino', 'Casablanca', 'Titanic'}\n",
      "{'Superman', 'Bataman', 'Batman'}\n"
     ]
    }
   ],
   "source": [
    "clasicos = {\"Casablanca\", \"Titanic\", \"Forrest Gump\", \"El Padrino\", \"Titanic\"}\n",
    "scifi = {\"The Matrix\", \"Interestellar\", \"Inception\", \"Titanic\", \"Avatar\"}\n",
    "animacion = {\"Up\", \"Coco\", \"Toy Story\", \"Shrek\", \"Avatar\"}\n",
    "print(clasicos)\n",
    "\n",
    "superheroes = (\"Batman\", \"Superman\", \"Bataman\")\n",
    "set_superheroes = set(superheroes)\n",
    "print(set_superheroes)"
   ]
  },
  {
   "cell_type": "code",
   "execution_count": 19,
   "id": "ff30d153",
   "metadata": {},
   "outputs": [
    {
     "name": "stdout",
     "output_type": "stream",
     "text": [
      "Películas Clásicas: 4\n",
      "{'Forrest Gump', 'El Padrino', 'Casablanca', 'Titanic'}\n",
      "{'Casablanca', 'Titanic', 'El Padrino', 'Jurasic Park', 'Forrest Gump'}\n",
      "{'Dune', 'Titanic', 'Avatar', 'Inception', 'The Matrix', '2001: Odisea en el espacio', 'Interestellar'}\n",
      "Shrek\n",
      "{'Toy Story', 'Avatar', 'Coco', 'Up'}\n",
      "{'Titanic', 'Avatar', 'Inception', 'The Matrix', '2001: Odisea en el espacio', 'Interestellar'}\n",
      "{'Titanic', 'Avatar', 'Inception', 'The Matrix', '2001: Odisea en el espacio', 'Interestellar'}\n"
     ]
    }
   ],
   "source": [
    "# len\n",
    "print(\"Películas Clásicas:\", len(clasicos))\n",
    "\n",
    "# .copy\n",
    "copia_clasicos = clasicos.copy()\n",
    "print(copia_clasicos)\n",
    "\n",
    "# .add\n",
    "copia_clasicos.add(\"Jurasic Park\")\n",
    "print(copia_clasicos)\n",
    "\n",
    "# .update\n",
    "nuevas_scifi = [\"2001: Odisea en el espacio\", \"Dune\"]\n",
    "scifi.update(nuevas_scifi)\n",
    "print(scifi)\n",
    "\n",
    "# .pop\n",
    "print(animacion.pop())\n",
    "print(animacion)\n",
    "\n",
    "# .remove\n",
    "scifi.remove(\"Dune\")\n",
    "print(scifi)\n",
    "\n",
    "# .discard\n",
    "scifi.discard(\"Dune\")\n",
    "print(scifi)\n"
   ]
  },
  {
   "cell_type": "code",
   "execution_count": null,
   "id": "e088b671",
   "metadata": {},
   "outputs": [
    {
     "name": "stdout",
     "output_type": "stream",
     "text": [
      "{'Casablanca', 'Titanic', 'Avatar', 'El Padrino', 'Inception', 'The Matrix', 'Forrest Gump', 'Interestellar'}\n",
      "{'Titanic'}\n",
      "{'Forrest Gump', 'El Padrino', 'Casablanca'}\n",
      "{'El Padrino', 'Casablanca', 'Avatar', 'Inception', 'The Matrix', 'Forrest Gump', 'Interestellar'}\n",
      "True\n",
      "True\n",
      "False\n"
     ]
    }
   ],
   "source": [
    "clasicos = {\"Casablanca\", \"Titanic\", \"Forrest Gump\", \"El Padrino\", \"Titanic\"}\n",
    "scifi = {\"The Matrix\", \"Interestellar\", \"Inception\", \"Titanic\", \"Avatar\"}\n",
    "animacion = {\"Up\", \"Coco\", \"Toy Story\", \"Shrek\", \"Avatar\"}\n",
    "\n",
    "# .union\n",
    "clasicos_o_scifi = clasicos.union(scifi)\n",
    "clasicos_o_scifi = clasicos | scifi\n",
    "print(clasicos_o_scifi)\n",
    "\n",
    "# .intersection\n",
    "clasicos_de_scifi = clasicos.intersection(scifi)\n",
    "clasicos_de_scifi = clasicos & scifi\n",
    "print(clasicos_de_scifi)\n",
    "\n",
    "# .difference\n",
    "clasicos_menos_scifi = clasicos.difference(scifi)\n",
    "clasicos_menos_scifi = clasicos - scifi\n",
    "print(clasicos_menos_scifi)\n",
    "\n",
    "# .symetric_difference\n",
    "clasicos_xor_scifi = clasicos.symmetric_difference(scifi)\n",
    "clasicos_xor_scifi = clasicos ^ scifi\n",
    "print(clasicos_xor_scifi)\n",
    "\n",
    "# .isdisjoint\n",
    "print(clasicos.isdisjoint(animacion))\n",
    "\n",
    "# .issubset\n",
    "set_de_peliculas = {\"Casablanca\", \"El Padrino\"}\n",
    "print(set_de_peliculas.issubset(clasicos))\n",
    "\n",
    "# .issuperset\n",
    "set_de_peliculas = {\"Casablanca\", \"El Padrino\"}\n",
    "print(clasicos.issuperset(set_de_peliculas))"
   ]
  },
  {
   "cell_type": "code",
   "execution_count": null,
   "id": "19416441",
   "metadata": {},
   "outputs": [],
   "source": []
  }
 ],
 "metadata": {
  "kernelspec": {
   "display_name": "Python 3",
   "language": "python",
   "name": "python3"
  },
  "language_info": {
   "codemirror_mode": {
    "name": "ipython",
    "version": 3
   },
   "file_extension": ".py",
   "mimetype": "text/x-python",
   "name": "python",
   "nbconvert_exporter": "python",
   "pygments_lexer": "ipython3",
   "version": "3.13.3"
  }
 },
 "nbformat": 4,
 "nbformat_minor": 5
}
