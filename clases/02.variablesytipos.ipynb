{
 "cells": [
  {
   "cell_type": "markdown",
   "id": "eda54f93",
   "metadata": {},
   "source": [
    "## Variables\n",
    "\n",
    "### Declarar y asignar"
   ]
  },
  {
   "cell_type": "code",
   "execution_count": 1,
   "id": "2a4f3995",
   "metadata": {},
   "outputs": [
    {
     "name": "stdout",
     "output_type": "stream",
     "text": [
      "5\n",
      "Hola\n"
     ]
    }
   ],
   "source": [
    "# Declarar y asignar el valor de una variable con el operador de asignación =\n",
    "variable = 5\n",
    "print(variable)\n",
    "# Reasignar un valor a una variable ya existente\n",
    "variable = \"Hola\"\n",
    "print(variable)"
   ]
  },
  {
   "cell_type": "markdown",
   "id": "f4360914",
   "metadata": {},
   "source": [
    "## Típos de datos\n",
    "\n",
    "### Números"
   ]
  },
  {
   "cell_type": "code",
   "execution_count": 2,
   "id": "bc90baec",
   "metadata": {},
   "outputs": [
    {
     "name": "stdout",
     "output_type": "stream",
     "text": [
      "<class 'int'>\n",
      "<class 'float'>\n",
      "<class 'complex'>\n"
     ]
    }
   ],
   "source": [
    "# int\n",
    "age = 18\n",
    "print(type(age))\n",
    "\n",
    "# float\n",
    "price = 10.25\n",
    "print(type(price))\n",
    "\n",
    "# complex\n",
    "complejo = 2 + 4j\n",
    "print(type(complejo))"
   ]
  },
  {
   "cell_type": "markdown",
   "id": "ecbdd118",
   "metadata": {},
   "source": [
    "### Strings"
   ]
  },
  {
   "cell_type": "code",
   "execution_count": 3,
   "id": "24d3f670",
   "metadata": {},
   "outputs": [
    {
     "name": "stdout",
     "output_type": "stream",
     "text": [
      "<class 'str'>\n",
      "Como bien dijo Rajoy: \"¡Viva el vino!\"\n",
      "\n",
      "Este es un string\n",
      "que se muestra\n",
      "en varias\n",
      "lineas\n",
      "\n",
      "Buenas tardes a \n",
      "'todos'\n",
      "La variable nombre tiene como valor: Raquel\n"
     ]
    }
   ],
   "source": [
    "nombre = \"Victor\"\n",
    "nombre = 'Raquel'\n",
    "print(type(nombre))\n",
    "\n",
    "frase = 'Como bien dijo Rajoy: \"¡Viva el vino!\"'\n",
    "print(frase)\n",
    "\n",
    "varias_lineas = '''\n",
    "Este es un string\n",
    "que se muestra\n",
    "en varias\n",
    "lineas\n",
    "'''\n",
    "print(varias_lineas)\n",
    "\n",
    "caracter_de_escape = \"Buenas tardes a \\n'todos\\'\"\n",
    "print(caracter_de_escape)\n",
    "\n",
    "print(f\"La variable nombre tiene como valor: {nombre}\")"
   ]
  },
  {
   "cell_type": "markdown",
   "id": "14602f4f",
   "metadata": {},
   "source": [
    "### Booleanos"
   ]
  },
  {
   "cell_type": "code",
   "execution_count": 4,
   "id": "d615fbb8",
   "metadata": {},
   "outputs": [
    {
     "name": "stdout",
     "output_type": "stream",
     "text": [
      "<class 'bool'>\n"
     ]
    }
   ],
   "source": [
    "aprobado = True\n",
    "matriculado = False\n",
    "print(type(matriculado))"
   ]
  },
  {
   "cell_type": "markdown",
   "id": "990ec62d",
   "metadata": {},
   "source": [
    "### None"
   ]
  },
  {
   "cell_type": "code",
   "execution_count": 5,
   "id": "25fad520",
   "metadata": {},
   "outputs": [
    {
     "name": "stdout",
     "output_type": "stream",
     "text": [
      "<class 'NoneType'>\n"
     ]
    }
   ],
   "source": [
    "usuario = None\n",
    "print(type(usuario))"
   ]
  },
  {
   "cell_type": "markdown",
   "id": "8ea997fa",
   "metadata": {},
   "source": [
    "## Ejemplo de función built-in\n",
    "\n",
    "### len()"
   ]
  },
  {
   "cell_type": "code",
   "execution_count": 6,
   "id": "cc5d323c",
   "metadata": {},
   "outputs": [
    {
     "name": "stdout",
     "output_type": "stream",
     "text": [
      "17\n",
      "La longitud de la frase 'Esto es una frase' es de 17 caracteres.\n"
     ]
    }
   ],
   "source": [
    "ejemplo_string = \"Esto es una frase\"\n",
    "longitud_string = len(ejemplo_string)\n",
    "print(longitud_string)\n",
    "\n",
    "print(f\"La longitud de la frase '{ejemplo_string}' es de {len(ejemplo_string)} caracteres.\")"
   ]
  }
 ],
 "metadata": {
  "kernelspec": {
   "display_name": "Python 3",
   "language": "python",
   "name": "python3"
  },
  "language_info": {
   "codemirror_mode": {
    "name": "ipython",
    "version": 3
   },
   "file_extension": ".py",
   "mimetype": "text/x-python",
   "name": "python",
   "nbconvert_exporter": "python",
   "pygments_lexer": "ipython3",
   "version": "3.13.3"
  }
 },
 "nbformat": 4,
 "nbformat_minor": 5
}
