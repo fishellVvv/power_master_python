{
 "cells": [
  {
   "cell_type": "markdown",
   "id": "9192773c",
   "metadata": {},
   "source": [
    "## Operadores Aritméticos"
   ]
  },
  {
   "cell_type": "markdown",
   "id": "e46fe8ed",
   "metadata": {},
   "source": [
    "### Operador de Asignación"
   ]
  },
  {
   "cell_type": "code",
   "execution_count": 41,
   "metadata": {},
   "outputs": [
    {
     "name": "stdout",
     "output_type": "stream",
     "text": [
      "15\n",
      "5\n",
      "50\n",
      "2.0\n",
      "2\n",
      "0\n",
      "100000\n"
     ]
    }
   ],
   "source": [
    "a = 10\n",
    "b = 5\n",
    "\n",
    "# suma\n",
    "print(a + b)\n",
    "# resta\n",
    "print(a - b)\n",
    "# multiplicación\n",
    "print(a * b)\n",
    "# división (float)\n",
    "print(a / b)\n",
    "# división entera (int)\n",
    "print(a // b)\n",
    "# módulo - resto\n",
    "print(a % b)\n",
    "# potencia\n",
    "print(a ** b)"
   ]
  },
  {
   "cell_type": "markdown",
   "id": "0bffec80",
   "metadata": {},
   "source": [
    "## Concatenaciones"
   ]
  },
  {
   "cell_type": "code",
   "execution_count": 42,
   "id": "10d94be6",
   "metadata": {},
   "outputs": [
    {
     "name": "stdout",
     "output_type": "stream",
     "text": [
      "Hola Byron\n",
      "Byron tiene 5 años\n"
     ]
    }
   ],
   "source": [
    "saludo = \"Hola\"\n",
    "nombre = \"Byron\"\n",
    "mensaje = saludo + \" \" + nombre\n",
    "print(mensaje)\n",
    "\n",
    "edad = 5\n",
    "segundo_mensaje = nombre + \" tiene \" + str(edad) + \" años\"\n",
    "print(segundo_mensaje)"
   ]
  },
  {
   "cell_type": "markdown",
   "id": "4076bf9b",
   "metadata": {},
   "source": [
    "## Operadores de comparación o lógico"
   ]
  },
  {
   "cell_type": "code",
   "execution_count": 43,
   "id": "cdd2339f",
   "metadata": {},
   "outputs": [
    {
     "name": "stdout",
     "output_type": "stream",
     "text": [
      "False\n",
      "True\n",
      "False\n",
      "True\n",
      "False\n",
      "True\n"
     ]
    }
   ],
   "source": [
    "x = 10\n",
    "y = 20\n",
    "\n",
    "# igual que\n",
    "print(x == y)\n",
    "# distinto que\n",
    "print(x != y)\n",
    "# mayor que\n",
    "print(x > y)\n",
    "# menor que\n",
    "print(x < y)\n",
    "# mayor o igual que\n",
    "print(x >= y)\n",
    "# menor o igual que\n",
    "print(x <= y)"
   ]
  },
  {
   "cell_type": "markdown",
   "id": "2e41cbdc",
   "metadata": {},
   "source": [
    "### Comparación"
   ]
  },
  {
   "cell_type": "code",
   "execution_count": 44,
   "id": "f13d0347",
   "metadata": {},
   "outputs": [
    {
     "name": "stdout",
     "output_type": "stream",
     "text": [
      "False\n",
      "True\n"
     ]
    }
   ],
   "source": [
    "nota = 7\n",
    "asistencia = 0.5\n",
    "\n",
    "# \"y\"\n",
    "aprobado = (nota >= 5) and (asistencia >= 0.7)\n",
    "print(aprobado)\n",
    "\n",
    "# \"o\"\n",
    "otro = (nota >= 5) or (asistencia >= 0.7)\n",
    "print(otro)"
   ]
  },
  {
   "cell_type": "markdown",
   "id": "b05ac417",
   "metadata": {},
   "source": [
    "## Operadores de operación y asignación - conbinados"
   ]
  },
  {
   "cell_type": "code",
   "execution_count": 45,
   "id": "1727a6dc",
   "metadata": {},
   "outputs": [
    {
     "name": "stdout",
     "output_type": "stream",
     "text": [
      "15\n",
      "30\n",
      "10\n",
      "8\n"
     ]
    }
   ],
   "source": [
    "numero = 10\n",
    "\n",
    "numero += 5\n",
    "print(numero)\n",
    "numero *= 2\n",
    "print(numero)\n",
    "numero //= 3\n",
    "print(numero)\n",
    "numero -= 2\n",
    "print(numero)"
   ]
  },
  {
   "cell_type": "markdown",
   "id": "eb529b31",
   "metadata": {},
   "source": [
    "## Conversores de datos"
   ]
  },
  {
   "cell_type": "code",
   "execution_count": 46,
   "id": "9c3331c6",
   "metadata": {},
   "outputs": [
    {
     "name": "stdout",
     "output_type": "stream",
     "text": [
      "5 <class 'int'>\n",
      "3.4 <class 'float'>\n",
      "10 <class 'str'>\n",
      "True <class 'bool'>\n"
     ]
    }
   ],
   "source": [
    "numero = int(\"5\")\n",
    "print(numero, type(numero))\n",
    "\n",
    "decimal = float(\"3.4\")\n",
    "print(decimal, type(decimal))\n",
    "\n",
    "texto = str(10)\n",
    "print(texto, type(texto))\n",
    "\n",
    "booleano = bool(0.1)\n",
    "print(booleano, type(booleano))"
   ]
  }
 ],
 "metadata": {
  "kernelspec": {
   "display_name": ".venv (3.13.3)",
   "language": "python",
   "name": "python3"
  },
  "language_info": {
   "codemirror_mode": {
    "name": "ipython",
    "version": 3
   },
   "file_extension": ".py",
   "mimetype": "text/x-python",
   "name": "python",
   "nbconvert_exporter": "python",
   "pygments_lexer": "ipython3",
   "version": "3.13.3"
  }
 },
 "nbformat": 4,
 "nbformat_minor": 5
}
