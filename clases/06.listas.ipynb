{
 "cells": [
  {
   "cell_type": "markdown",
   "id": "01d402cb",
   "metadata": {},
   "source": [
    "## Listas"
   ]
  },
  {
   "cell_type": "code",
   "execution_count": 1,
   "id": "f5de2e46",
   "metadata": {},
   "outputs": [
    {
     "name": "stdout",
     "output_type": "stream",
     "text": [
      "Spiderman\n"
     ]
    }
   ],
   "source": [
    "# Listas anidadas\n",
    "marvel = [\n",
    "    [\"Cíclope\", \"Wolverine\", \"Fenix\"],\n",
    "    [\"Iron Man\", \"Spiderman\", \"Ojo de Halcón\"],\n",
    "    [\"Daredevil\", \"Punisher\", \"Electra\"]\n",
    "]\n",
    "\n",
    "print(marvel[1][1])"
   ]
  },
  {
   "cell_type": "markdown",
   "id": "03b524f0",
   "metadata": {},
   "source": [
    "## Métodos"
   ]
  },
  {
   "cell_type": "code",
   "execution_count": 2,
   "id": "e477695b",
   "metadata": {},
   "outputs": [
    {
     "name": "stdout",
     "output_type": "stream",
     "text": [
      "['C', 'í', 'c', 'l', 'o', 'p', 'e']\n",
      "['Cíclope', 'Wolverine']\n",
      "['Cíclope', 'Wolverine', 'Bruja Escarlata']\n",
      "['Spiderman', 'Cíclope', 'Bruja Escarlata']\n",
      "-5\n",
      "585\n",
      "['Batman', 'Bruja Escarlata', 'Cíclope', 'Spiderman', 'Wolverine']\n",
      "['Spiderman', 'Batman', 'Cíclope', 'Wolverine', 'Bruja Escarlata']\n",
      "['Batman', 'Bruja Escarlata', 'Cíclope', 'Spiderman', 'Wolverine']\n",
      "['Batman', 'Bruja Escarlata', 'Cíclope', 'Spiderman', 'Wolverine']\n",
      "2\n",
      "['Fernando', 'Daniel', 'María', 'Elisa', 'Daniel', 'Eduardo']\n",
      "['Rocket', 'Groot', 'Star-Lord']\n",
      "['Rocket', 'Groot', 'Star-Lord', 'Gamora']\n",
      "['Rocket', 'Groot', 'Star-Lord', 'Gamora', 'Drax', 'Nébula']\n",
      "2\n",
      "['Drax', 'Groot', 'Nébula', 'Rocket', 'Star-Lord']\n",
      "['Drax', 'Gamora', 'Groot', 'Nébula', 'Rocket', 'Star-Lord']\n"
     ]
    }
   ],
   "source": [
    "# Convertir un String en lista\n",
    "nombre = \"Cíclope\"\n",
    "nombre_en_lista = list(nombre)\n",
    "print(nombre_en_lista)\n",
    "\n",
    "# Rangos de indexación [star:end:step]\n",
    "heroes = [\"Spiderman\", \"Batman\", \"Cíclope\", \"Wolverine\", \"Bruja Escarlata\"]\n",
    "print(heroes[2:4])\n",
    "print(heroes[2:])\n",
    "print(heroes[::2])\n",
    "\n",
    "# Min y Max\n",
    "numeros = [1, 2, 300, 4, 5, 6, 7, 8, 9, 10, -5, 585, 22]\n",
    "print(min(numeros))\n",
    "print(max(numeros))\n",
    "\n",
    "# Ordenar lista\n",
    "# Sorted -> retorna un lista ordenada alfabéticamente\n",
    "print(sorted(heroes))\n",
    "print(heroes)\n",
    "\n",
    "# Sort -> Ordena alfabéticamente la lista original\n",
    "heroes.sort()\n",
    "print(heroes)\n",
    "\n",
    "# Copy - realiza una copia de una lista\n",
    "nuevos_heroes = heroes.copy()\n",
    "print(nuevos_heroes)\n",
    "\n",
    "# Count - cuenta un elemento de una lista\n",
    "alumnos = [\"Eduardo\", \"Daniel\", \"Elisa\", \"María\", \"Daniel\", \"Fernando\"]\n",
    "print(alumnos.count(\"Daniel\"))\n",
    "\n",
    "# Reverse - invierte el orden de la lista\n",
    "alumnos.reverse()\n",
    "print(alumnos)\n",
    "\n",
    "# Métodos para añadir y eliminar\n",
    "guardianes = [\"Rocket\", \"Groot\", \"Star-Lord\"]\n",
    "print(guardianes)\n",
    "# se une Gamora\n",
    "guardianes.append(\"Gamora\")\n",
    "print(guardianes)\n",
    "# se unen Drax y Nébula\n",
    "guardianes.extend([\"Drax\", \"Nébula\"])\n",
    "print(guardianes)\n",
    "# aparece otro Groot\n",
    "guardianes.append(\"Groot\")\n",
    "print(guardianes.count(\"Groot\"))\n",
    "# ponemos orden\n",
    "guardianes.sort()\n",
    "# Eliminamos un Groot (el primero)\n",
    "guardianes.remove(\"Groot\")\n",
    "# hacemos una copia de este momento\n",
    "guardianes2 = guardianes.copy()\n",
    "# muere Gamora\n",
    "guardianes2.remove(\"Gamora\")\n",
    "print(guardianes2)\n",
    "# podemos hacer soft-reboot\n",
    "print(guardianes)"
   ]
  }
 ],
 "metadata": {
  "kernelspec": {
   "display_name": "Python 3",
   "language": "python",
   "name": "python3"
  },
  "language_info": {
   "codemirror_mode": {
    "name": "ipython",
    "version": 3
   },
   "file_extension": ".py",
   "mimetype": "text/x-python",
   "name": "python",
   "nbconvert_exporter": "python",
   "pygments_lexer": "ipython3",
   "version": "3.13.3"
  }
 },
 "nbformat": 4,
 "nbformat_minor": 5
}
