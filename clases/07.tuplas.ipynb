{
 "cells": [
  {
   "cell_type": "markdown",
   "id": "0e733fec",
   "metadata": {},
   "source": [
    "## Tuplas"
   ]
  },
  {
   "cell_type": "code",
   "execution_count": 1,
   "metadata": {},
   "outputs": [
    {
     "name": "stdout",
     "output_type": "stream",
     "text": [
      "('Spiderman', 'Peter Parker', 'Marvel', 1965)\n",
      "<class 'tuple'>\n",
      "['Capitán América', 'Hulka', 'Iron Man']\n"
     ]
    }
   ],
   "source": [
    "# Declaración\n",
    "ejemplo = (\"Spiderman\", \"Peter Parker\", \"Marvel\", 1965)\n",
    "print(ejemplo)\n",
    "print(type(ejemplo))\n",
    "\n",
    "# Inmutabilidad\n",
    "vengadores = [\"Capitán América\", \"Viuda Negra\", \"Iron Man\"]\n",
    "vengadores[1] = \"Hulka\"\n",
    "print(vengadores)\n",
    "\n",
    "liga_justicia = (\"Batman\", \"Superman\", \"Wonderwoman\")\n",
    "# X Liga_justicia[1] = \"Linterna Verde\""
   ]
  },
  {
   "cell_type": "code",
   "execution_count": 2,
   "id": "92aa81fd",
   "metadata": {},
   "outputs": [
    {
     "name": "stdout",
     "output_type": "stream",
     "text": [
      "<class 'int'>\n",
      "<class 'int'>\n"
     ]
    }
   ],
   "source": [
    "# Tupla con un elemento\n",
    "tupla_un_elemento = (30)\n",
    "print(type(tupla_un_elemento))\n",
    "\n",
    "tupla_un_elemento_correcto = (30,)\n",
    "print(type(tupla_un_elemento))"
   ]
  },
  {
   "cell_type": "code",
   "execution_count": 3,
   "id": "113d8b0a",
   "metadata": {},
   "outputs": [
    {
     "name": "stdout",
     "output_type": "stream",
     "text": [
      "Superman\n",
      "Wonderwoman\n"
     ]
    }
   ],
   "source": [
    "# Indexación\n",
    "Liga_justicia = (\"Batman\", \"Superman\", \"Wonderwoman\")\n",
    "print(Liga_justicia[1])\n",
    "print(Liga_justicia[-1])"
   ]
  },
  {
   "cell_type": "code",
   "execution_count": 4,
   "id": "80c15c62",
   "metadata": {},
   "outputs": [
    {
     "name": "stdout",
     "output_type": "stream",
     "text": [
      "<class 'list'>\n",
      "('Batman', 'Linterna Verde', 'Wonderwoman')\n"
     ]
    }
   ],
   "source": [
    "# Saltarse la inmutabilidad\n",
    "liga_justicia = (\"Batman\", \"Superman\", \"Wonderwoman\")\n",
    "# X Liga_justicia[1] = \"Linterna Verde\"\n",
    "liga_justicia_alt = list(liga_justicia)\n",
    "print(type(liga_justicia_alt))\n",
    "liga_justicia_alt[1] = \"Linterna Verde\"\n",
    "liga_justicia = tuple(liga_justicia_alt)\n",
    "print(liga_justicia)"
   ]
  },
  {
   "cell_type": "code",
   "execution_count": 5,
   "id": "52b5a7a7",
   "metadata": {},
   "outputs": [
    {
     "name": "stdout",
     "output_type": "stream",
     "text": [
      "0\n",
      "2\n",
      "8\n",
      "2\n",
      "8\n"
     ]
    }
   ],
   "source": [
    "# Métodos\n",
    "numeros = (2,3,4,5,6,7,8,2)\n",
    "\n",
    "print(numeros.index(2))\n",
    "print(numeros.count(2))\n",
    "print(len(numeros))\n",
    "print(min(numeros))\n",
    "print(max(numeros))"
   ]
  },
  {
   "cell_type": "code",
   "execution_count": 6,
   "id": "2bd1bd08",
   "metadata": {},
   "outputs": [
    {
     "name": "stdout",
     "output_type": "stream",
     "text": [
      "Bruce Wayne\n"
     ]
    }
   ],
   "source": [
    "# Tuplas anidadas\n",
    "comics = (\n",
    "    (\"Marvel\", \"Spiderman\", \"Peter Parker\"),\n",
    "    (\"DC\", \"Batman\", \"Bruce Wayne\")\n",
    ")\n",
    "print(comics[1][2])"
   ]
  },
  {
   "cell_type": "code",
   "execution_count": 7,
   "id": "2838792d",
   "metadata": {},
   "outputs": [
    {
     "name": "stdout",
     "output_type": "stream",
     "text": [
      "1 2 3\n",
      "5 5 5\n",
      "1 2 3\n"
     ]
    }
   ],
   "source": [
    "# Atajos\n",
    "a, b, c = 1, 2, 3\n",
    "print(a,b,c)\n",
    "\n",
    "x = y = z = 5\n",
    "print(x,y,z)\n",
    "\n",
    "d = 1; e=2; f= 3;\n",
    "print(d,e,f)"
   ]
  },
  {
   "cell_type": "code",
   "execution_count": 8,
   "id": "4e32792f",
   "metadata": {},
   "outputs": [
    {
     "name": "stdout",
     "output_type": "stream",
     "text": [
      "Conectado al servidor en http://localhost en el puerto 8080 -> SSL: True\n"
     ]
    }
   ],
   "source": [
    "# Uso\n",
    "config_servidor = (\"localhost\", 8080, True)\n",
    "print(f\"Conectado al servidor en http://{config_servidor[0]} en el puerto {config_servidor[1]} -> SSL: {config_servidor[2]}\")"
   ]
  }
 ],
 "metadata": {
  "kernelspec": {
   "display_name": "Python 3",
   "language": "python",
   "name": "python3"
  },
  "language_info": {
   "codemirror_mode": {
    "name": "ipython",
    "version": 3
   },
   "file_extension": ".py",
   "mimetype": "text/x-python",
   "name": "python",
   "nbconvert_exporter": "python",
   "pygments_lexer": "ipython3",
   "version": "3.13.3"
  }
 },
 "nbformat": 4,
 "nbformat_minor": 5
}
